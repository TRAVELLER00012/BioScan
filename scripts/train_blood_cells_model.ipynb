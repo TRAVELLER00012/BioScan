{
 "cells": [
  {
   "cell_type": "code",
   "execution_count": null,
   "id": "80fc304b",
   "metadata": {},
   "outputs": [],
   "source": [
    "from ultralytics import YOLO\n",
    "model = YOLO(\"yolov8m.pt\")\n"
   ]
  },
  {
   "cell_type": "code",
   "execution_count": null,
   "id": "39019f9c",
   "metadata": {},
   "outputs": [],
   "source": [
    "results = model.train(data=\"blood_cells_dataset.yaml\", epochs=100, imgsz=640, batch=16,device=\"cuda\")"
   ]
  },
  {
   "cell_type": "code",
   "execution_count": null,
   "id": "9818a82f",
   "metadata": {},
   "outputs": [],
   "source": [
    "import csv, os\n",
    "\n",
    "img_w, img_h = 256, 256  # adjust if different\n",
    "class_map = {\"rbc\": 0, \"wbc\": 1}\n",
    "\n",
    "with open(\"annotations.csv\") as f:\n",
    "    reader = csv.reader(f)\n",
    "    next(reader)\n",
    "    for row in reader:\n",
    "        img, x_min, y_min, x_max, y_max, cls = row\n",
    "        x_min, y_min, x_max, y_max = map(float, [x_min, y_min, x_max, y_max])\n",
    "        cx = ((x_min + x_max) / 2) / img_w\n",
    "        cy = ((y_min + y_max) / 2) / img_h\n",
    "        w  = (x_max - x_min) / img_w\n",
    "        h  = (y_max - y_min) / img_h\n",
    "        class_id = class_map[cls.strip().lower()]\n",
    "        with open(f\"labels_test/{img.replace('.png','.txt')}\", \"a\") as out:\n",
    "            out.write(f\"{class_id} {cx:.6f} {cy:.6f} {w:.6f} {h:.6f}\\n\")\n"
   ]
  },
  {
   "cell_type": "code",
   "execution_count": null,
   "id": "c88f05ce",
   "metadata": {},
   "outputs": [
    {
     "name": "stdout",
     "output_type": "stream",
     "text": [
      "\n",
      "image 1/1 d:\\Coding\\Projects\\Python\\BioScan\\images\\blood_cells\\images\\val\\image-10.png: 640x640 25 RBCs, 12.3ms\n",
      "Speed: 2.4ms preprocess, 12.3ms inference, 1.8ms postprocess per image at shape (1, 3, 640, 640)\n"
     ]
    }
   ],
   "source": [
    "from ultralytics import YOLO\n",
    "model = YOLO(\"runs/detect/train5/weights/last.pt\")\n",
    "results = model.predict(\"../images/blood_cells/images/val/image-10.png\")\n",
    "\n",
    "for r in results:\n",
    "    r.save(\"prediction_image-10.png\")"
   ]
  },
  {
   "cell_type": "code",
   "execution_count": null,
   "id": "699ee2a5",
   "metadata": {},
   "outputs": [],
   "source": [
    "results"
   ]
  },
  {
   "cell_type": "code",
   "execution_count": null,
   "id": "26b2283c",
   "metadata": {},
   "outputs": [],
   "source": [
    "from ultralytics import YOLO\n",
    "model = YOLO(\"../models/yolov8s.pt\")\n",
    "results = model.train(data=\"blood_cells_dataset.yaml\", epochs=100, imgsz=640, batch=16,device=\"cuda\")"
   ]
  },
  {
   "cell_type": "code",
   "execution_count": null,
   "id": "1b528b33",
   "metadata": {},
   "outputs": [],
   "source": [
    "from ultralytics import YOLO\n",
    "\n",
    "model = YOLO(\"../runs/detect/train5/weights/best.pt\")"
   ]
  }
 ],
 "metadata": {
  "kernelspec": {
   "display_name": "Python 3",
   "language": "python",
   "name": "python3"
  },
  "language_info": {
   "codemirror_mode": {
    "name": "ipython",
    "version": 3
   },
   "file_extension": ".py",
   "mimetype": "text/x-python",
   "name": "python",
   "nbconvert_exporter": "python",
   "pygments_lexer": "ipython3",
   "version": "3.12.4"
  }
 },
 "nbformat": 4,
 "nbformat_minor": 5
}
