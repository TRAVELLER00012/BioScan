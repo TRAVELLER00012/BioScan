{
 "cells": [
  {
   "cell_type": "code",
   "execution_count": null,
   "id": "5c38b3bf",
   "metadata": {},
   "outputs": [],
   "source": [
    "from ultralytics import YOLO\n",
    "model = YOLO(\"yolov8s.pt\")\n"
   ]
  },
  {
   "cell_type": "code",
   "execution_count": null,
   "id": "c7be7095",
   "metadata": {},
   "outputs": [],
   "source": [
    "results = model.train(data=\"malarial_cells_dataset.yaml\", epochs=100, imgsz=320, batch=16,amp=True,cache = 'disk',workers = 8,device=\"cuda\")"
   ]
  },
  {
   "cell_type": "code",
   "execution_count": null,
   "id": "a67227c3",
   "metadata": {},
   "outputs": [],
   "source": [
    "model = YOLO(\"runs/detect/train2/weights/last.pt\")\n",
    "results = model.train(resume=True)"
   ]
  },
  {
   "cell_type": "code",
   "execution_count": 14,
   "id": "dc8e8daa",
   "metadata": {},
   "outputs": [
    {
     "name": "stdout",
     "output_type": "stream",
     "text": [
      "\n",
      "image 1/1 d:\\Coding\\Projects\\Python\\BioScan\\scripts\\..\\assets\\multiple_cells.png: 224x320 4 Parasitizeds, 4 Uninfecteds, 5.1ms\n",
      "Speed: 0.4ms preprocess, 5.1ms inference, 1.4ms postprocess per image at shape (1, 3, 224, 320)\n"
     ]
    }
   ],
   "source": [
    "from ultralytics import YOLO\n",
    "model = YOLO(\"./runs/detect/train2/weights/best.pt\")\n",
    "\n",
    "result = model.predict(\"../assets/multiple_cells.png\")\n",
    "\n",
    "for r in result:\n",
    "    r.show()"
   ]
  }
 ],
 "metadata": {
  "kernelspec": {
   "display_name": "Python 3",
   "language": "python",
   "name": "python3"
  },
  "language_info": {
   "codemirror_mode": {
    "name": "ipython",
    "version": 3
   },
   "file_extension": ".py",
   "mimetype": "text/x-python",
   "name": "python",
   "nbconvert_exporter": "python",
   "pygments_lexer": "ipython3",
   "version": "3.12.4"
  }
 },
 "nbformat": 4,
 "nbformat_minor": 5
}
