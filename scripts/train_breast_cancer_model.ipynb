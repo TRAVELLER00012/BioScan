{
 "cells": [
  {
   "cell_type": "code",
   "execution_count": 1,
   "id": "d1fb6cbe",
   "metadata": {},
   "outputs": [],
   "source": [
    "# from ultralytics import YOLO\n",
    "# model = YOLO(\"yolov8n-seg\")\n",
    "# results = model.train(data=\"breast_cancer_dataset.yaml\", epochs=100, imgsz=320,device=\"cuda\",workers = 8, cache = \"disk\", amp = True,patience=25,batch=16)"
   ]
  },
  {
   "cell_type": "code",
   "execution_count": 2,
   "id": "8f92ae68",
   "metadata": {},
   "outputs": [],
   "source": [
    "# from ultralytics import YOLO\n",
    "# model = YOLO(\"yolov8s-seg\")\n",
    "# results = model.train(data=\"breast_cancer_dataset.yaml\", epochs=100, imgsz=320,device=\"cuda\",workers = 8, cache = \"disk\", amp = True,patience=25,batch=16)"
   ]
  },
  {
   "cell_type": "code",
   "execution_count": 3,
   "id": "ed31fc48",
   "metadata": {},
   "outputs": [],
   "source": [
    "# from ultralytics import YOLO\n",
    "# model = YOLO(\"yolo11n-seg\")\n",
    "# results = model.train(data=\"breast_cancer_dataset.yaml\", epochs=100, imgsz=320,device=\"cuda\",workers = 8, cache = \"disk\", amp = True,patience=25,batch=16)"
   ]
  },
  {
   "cell_type": "code",
   "execution_count": 4,
   "id": "19977eae",
   "metadata": {},
   "outputs": [],
   "source": [
    "# from ultralytics import YOLO\n",
    "# model = YOLO(\"yolov8m-seg\")\n",
    "# results = model.train(data=\"breast_cancer_dataset.yaml\", epochs=100, imgsz=320,device=\"cuda\",workers = 8, cache = \"disk\", amp = True,patience=25,batch=16)"
   ]
  },
  {
   "cell_type": "code",
   "execution_count": 10,
   "id": "e6962bb6",
   "metadata": {},
   "outputs": [
    {
     "name": "stdout",
     "output_type": "stream",
     "text": [
      "[1 1 1 1 1 1 1 1 1 1 1 1 1 1 1 1 1 1 1 0 0 0 1 1 1 1 1 1 1 1 1 1 1 1 1 1 1\n",
      " 0 1 1 1 1 1 1 1 1 0 1 0 0 0 0 0 1 1 0 1 1 0 0 0 0 1 0 1 1 0 0 0 0 1 0 1 1\n",
      " 0 1 0 1 1 0 0 0 1 1 0 1 1 1 0 0 0 1 0 0 1 1 0 0 0 1 1 0 0 0 0 1 0 0 1 0 0\n",
      " 0 0 0 0 0 0 1 1 1 0 1 1 0 0 0 1 1 0 1 0 1 1 0 1 1 0 0 1 0 0 1 0 0 0 0 1 0\n",
      " 0 0 0 0 0 0 0 0 1 0 0 0 0 1 1 0 1 0 0 1 1 0 0 1 1 0 0 0 0 1 0 0 1 1 1 0 1\n",
      " 0 1 0 0 0 1 0 0 1 1 0 1 1 1 1 0 1 1 1 0 1 0 1 0 0 1 0 1 1 1 1 0 0 1 1 0 0\n",
      " 0 1 0 0 0 0 0 1 1 0 0 1 0 0 1 1 0 1 0 0 0 0 1 0 0 0 0 0 1 0 1 1 1 1 1 1 1\n",
      " 1 1 1 1 1 1 1 0 0 0 0 0 0 1 0 1 0 0 1 0 0 1 0 1 1 0 0 0 0 0 0 0 0 0 0 0 0\n",
      " 0 1 0 0 1 0 1 0 0 0 0 0 0 0 0 0 0 0 0 0 0 1 0 0 0 1 0 1 0 0 0 0 1 1 1 0 0\n",
      " 0 0 1 0 1 0 1 0 0 0 1 0 0 0 0 0 0 0 1 1 1 0 0 0 0 0 0 0 0 0 0 0 1 1 0 1 1\n",
      " 1 0 1 1 0 0 0 0 0 1 0 0 0 0 0 1 0 0 0 1 0 0 1 1 0 0 0 0 0 0 1 0 0 0 0 0 0\n",
      " 0 1 0 0 0 0 0 1 0 0 1 0 0 0 0 0 0 0 0 0 0 0 0 1 0 1 1 0 1 0 0 0 0 0 1 0 0\n",
      " 1 0 1 0 0 1 0 1 0 0 0 0 0 0 0 0 1 1 0 0 0 0 0 0 1 0 0 0 0 0 0 0 0 0 0 1 0\n",
      " 0 0 0 0 0 0 1 0 1 0 0 1 0 0 0 0 0 1 1 0 1 0 1 0 0 0 0 0 1 0 0 1 0 1 0 1 1\n",
      " 0 0 0 1 0 0 0 0 0 0 0 0 0 0 0 1 0 1 1 0 0 0 0 0 0 0 0 0 0 0 0 0 0 0 0 0 0\n",
      " 0 0 0 0 0 0 0 1 1 1 1 1 1 0]\n",
      "[[67  1]\n",
      " [ 1 45]]\n",
      "0.9824561403508771\n"
     ]
    }
   ],
   "source": [
    "import pandas as pd\n",
    "data = pd.read_csv(\"../dataset/breast-cancer.csv\")\n",
    "X = data.iloc[:,2:].values\n",
    "Y = data.iloc[:,1].values\n",
    "\n",
    "from sklearn.preprocessing import LabelEncoder\n",
    "encoder = LabelEncoder()\n",
    "Y = encoder.fit_transform(Y)\n",
    "print(Y)\n",
    "from sklearn.model_selection import train_test_split\n",
    "x_train,x_test,y_train,y_test = train_test_split(X,Y,test_size=0.2)\n",
    "\n",
    "from sklearn.preprocessing import StandardScaler\n",
    "x_scaler = StandardScaler()\n",
    "x_train = x_scaler.fit_transform(x_train)\n",
    "x_test = x_scaler.transform(x_test)\n",
    "\n",
    "from sklearn.svm import SVC\n",
    "classifier = SVC(kernel=\"rbf\")\n",
    "classifier.fit(x_train,y_train)\n",
    "\n",
    "predicitions = classifier.predict(x_test)\n",
    "\n",
    "from sklearn.metrics import confusion_matrix,accuracy_score\n",
    "print(confusion_matrix(y_test,predicitions))\n",
    "print(accuracy_score(y_test,predicitions))"
   ]
  },
  {
   "cell_type": "code",
   "execution_count": 7,
   "id": "e4b20fe1",
   "metadata": {},
   "outputs": [
    {
     "name": "stdout",
     "output_type": "stream",
     "text": [
      "\u001b[1m4/4\u001b[0m \u001b[32m━━━━━━━━━━━━━━━━━━━━\u001b[0m\u001b[37m\u001b[0m \u001b[1m0s\u001b[0m 11ms/step\n",
      "[[68  0]\n",
      " [ 6 40]]\n",
      "0.9473684210526315\n"
     ]
    }
   ],
   "source": [
    "import tensorflow as tf\n",
    "\n",
    "ann = tf.keras.Sequential()\n",
    "ann.add(tf.keras.layers.Dense(units=6,activation=\"relu\"))\n",
    "ann.add(tf.keras.layers.Dense(units=6,activation=\"relu\"))\n",
    "ann.add(tf.keras.layers.Dense(units=1,activation=\"relu\"))\n",
    "\n",
    "ann.compile(optimizer=\"adam\",loss=\"binary_crossentropy\",metrics=[\"accuracy\"])\n",
    "\n",
    "# ann.fit(x=x_train,y=y_train,epochs=100,batch_size=32)\n",
    "# ann.save(\"breast_cancer_model.keras\")\n",
    "\n",
    "ann = tf.keras.models.load_model(\"breast_cancer.keras\")\n",
    "\n",
    "predicitions = ann.predict(x_test)\n",
    "predicitions = predicitions > 0.5\n",
    "print(confusion_matrix(y_test,predicitions))\n",
    "print(accuracy_score(predicitions,y_test))"
   ]
  },
  {
   "cell_type": "code",
   "execution_count": 8,
   "id": "c026fcec",
   "metadata": {},
   "outputs": [
    {
     "name": "stdout",
     "output_type": "stream",
     "text": [
      "[[61  4]\n",
      " [ 5 44]]\n",
      "0.9210526315789473\n"
     ]
    }
   ],
   "source": [
    "data = pd.read_csv(\"../dataset/breast-cancer.csv\")\n",
    "X = data.iloc[:,2:].values\n",
    "Y = data.iloc[:,1].values\n",
    "encoder = LabelEncoder()\n",
    "Y = encoder.fit_transform(Y)\n",
    "\n",
    "from sklearn.model_selection import train_test_split\n",
    "x_train,x_test,y_train,y_test = train_test_split(X,Y,test_size=0.2)\n",
    "\n",
    "from sklearn.naive_bayes import GaussianNB\n",
    "classifier = GaussianNB()\n",
    "classifier.fit(x_train,y_train)\n",
    "\n",
    "predicitions = classifier.predict(x_test)\n",
    "print(confusion_matrix(y_test,predicitions))\n",
    "print(accuracy_score(predicitions,y_test))"
   ]
  },
  {
   "cell_type": "code",
   "execution_count": 9,
   "id": "260f45f7",
   "metadata": {},
   "outputs": [
    {
     "name": "stdout",
     "output_type": "stream",
     "text": [
      "[[76  1]\n",
      " [ 5 32]]\n",
      "0.9473684210526315\n"
     ]
    }
   ],
   "source": [
    "data = pd.read_csv(\"../dataset/breast-cancer.csv\")\n",
    "X = data.iloc[:,2:].values\n",
    "Y = data.iloc[:,1].values\n",
    "\n",
    "from sklearn.preprocessing import LabelEncoder\n",
    "encoder = LabelEncoder()\n",
    "Y = encoder.fit_transform(Y)\n",
    "\n",
    "from sklearn.model_selection import train_test_split\n",
    "x_train,x_test,y_train,y_test = train_test_split(X,Y,test_size=0.2)\n",
    "\n",
    "from sklearn.preprocessing import StandardScaler\n",
    "x_scaler = StandardScaler()\n",
    "x_train = x_scaler.fit_transform(x_train)\n",
    "x_test = x_scaler.transform(x_test)\n",
    "\n",
    "from sklearn.neighbors import KNeighborsClassifier\n",
    "classifier = KNeighborsClassifier()\n",
    "classifier.fit(x_train,y_train)\n",
    "\n",
    "predicitions = classifier.predict(x_test)\n",
    "\n",
    "from sklearn.metrics import confusion_matrix,accuracy_score\n",
    "print(confusion_matrix(y_test,predicitions))\n",
    "print(accuracy_score(y_test,predicitions))"
   ]
  },
  {
   "cell_type": "code",
   "execution_count": null,
   "id": "dc5dfd00",
   "metadata": {},
   "outputs": [],
   "source": [
    "\n"
   ]
  }
 ],
 "metadata": {
  "kernelspec": {
   "display_name": "Python 3",
   "language": "python",
   "name": "python3"
  },
  "language_info": {
   "codemirror_mode": {
    "name": "ipython",
    "version": 3
   },
   "file_extension": ".py",
   "mimetype": "text/x-python",
   "name": "python",
   "nbconvert_exporter": "python",
   "pygments_lexer": "ipython3",
   "version": "3.12.4"
  }
 },
 "nbformat": 4,
 "nbformat_minor": 5
}
